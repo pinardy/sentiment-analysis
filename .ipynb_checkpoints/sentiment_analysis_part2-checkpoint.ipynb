{
 "cells": [
  {
   "cell_type": "markdown",
   "metadata": {},
   "source": [
    "# Part 2\n",
    "\n",
    "### Recall that the HMM discussed in class is defined as follows:"
   ]
  },
  {
   "cell_type": "markdown",
   "metadata": {},
   "source": [
    "<img src=\"images/hmm_eqn.jpg\">"
   ]
  },
  {
   "cell_type": "markdown",
   "metadata": {},
   "source": [
    "### Training\n",
    "\n",
    "#### SLIDE 6 OF GENERATIVE MODELS:\n",
    "    P(transition) = count(s | prev_s) / count(prev_s)\n",
    "    P(emission)   = count(obs | s)    / count(s)"
   ]
  },
  {
   "cell_type": "code",
   "execution_count": 59,
   "metadata": {},
   "outputs": [
    {
     "name": "stdout",
     "output_type": "stream",
     "text": [
      "Raw file data: \n",
      "\n",
      "[\"I'm O\\n\", 'at O\\n', 'VivoCity B-neutral\\n', 'in O\\n', 'Singapore B-neutral\\n']\n",
      "\n",
      "==========================================\n",
      "[\"I'm\", 'O']\n",
      "----------------------------------\n",
      "['at', 'O']\n",
      "----------------------------------\n",
      "['VivoCity', 'B-neutral']\n",
      "----------------------------------\n",
      "['in', 'O']\n",
      "----------------------------------\n",
      "['Singapore', 'B-neutral']\n",
      "----------------------------------\n",
      "==========================================\n",
      "\n",
      "Observations: \n",
      "[\"I'm\", 'at', 'VivoCity', 'in', 'Singapore']\n",
      "\n",
      "States: \n",
      "['O', 'O', 'B-neutral', 'O', 'B-neutral']\n",
      "5\n"
     ]
    }
   ],
   "source": [
    "# Import training data\n",
    "with open('./SG/train', encoding='utf8') as f:\n",
    "    training_lines = f.readlines()\n",
    "    \n",
    "    # Containers for the states and observations\n",
    "    observations = []\n",
    "    states = []\n",
    "    \n",
    "    \n",
    "    # Raw data in array form \n",
    "    print(\"Raw file data: \" + \"\\n\")\n",
    "    print(training_lines[0:5])\n",
    "    print(\"\\n\" + \"==========================================\")\n",
    "    \n",
    "    # For each line in the file\n",
    "    for line in training_lines[0:5]: # Sample with 5 first\n",
    "        \n",
    "        # Remove the spaces in each line\n",
    "        stripped = line.strip().split(\" \")\n",
    "        print(stripped)\n",
    "        print(\"----------------------------------\")\n",
    "        \n",
    "        # Extract (state, observation) info\n",
    "        observations.append(stripped[0])\n",
    "        states.append(stripped[1])\n",
    "\n",
    "    print(\"==========================================\\n\")\n",
    "    print(\"Observations: \")\n",
    "    print(observations)\n",
    "    print(\"\\n\" + \"States: \")\n",
    "    print(states)\n",
    "        \n",
    "        # Update transition parameters\n",
    "\n",
    "        \n",
    "        # Update emission parameters\n",
    "            \n",
    "            \n",
    "        # else if at the end of the sequence\n",
    "        "
   ]
  },
  {
   "cell_type": "markdown",
   "metadata": {},
   "source": [
    "### (5 pts) Write a function that estimates the emission parameters from the training set using MLE (maximum likelihood estimation):"
   ]
  },
  {
   "cell_type": "markdown",
   "metadata": {},
   "source": [
    "<img src=\"images/MLE.jpg\">"
   ]
  },
  {
   "cell_type": "code",
   "execution_count": 3,
   "metadata": {},
   "outputs": [],
   "source": [
    "\"\"\"\n",
    "Inputs:\n",
    "    s          - specified state\n",
    "    o          - specified observation\n",
    "    states     - Counter of state appearances\n",
    "    emissions  - dict of {(state -> obs): Counter}\n",
    "    unique_obs - set of all unique observations\n",
    "\n",
    "Output:\n",
    "    emission probability corresponding to (s -> o)\n",
    "\"\"\"\n",
    "    \n",
    "def estimate_emission(s, o, states, emissions, unique_obs):\n",
    "    # Existing word\n",
    "    if o in unique_obs:\n",
    "        if emissions.get(s) != None:\n",
    "            return emissions[s][o] / (float(states[s]) + 1)\n",
    "        else:\n",
    "            return 0\n",
    "\n",
    "    # New word\n",
    "    else:\n",
    "        # Normalise probabilities\n",
    "        return (float(states[s]) + 1) / float(sum(states.values()))\n",
    "        # return 1 / (float(states[s]) + 1)"
   ]
  },
  {
   "cell_type": "markdown",
   "metadata": {},
   "source": [
    "### (10 pts) During the testing phase, if the word does not appear in the “modified training set”, we replace that word with #UNK# as well. Set k to 3, implement this fix into your function for computing the emission parameters."
   ]
  },
  {
   "cell_type": "code",
   "execution_count": null,
   "metadata": {},
   "outputs": [],
   "source": []
  },
  {
   "cell_type": "markdown",
   "metadata": {},
   "source": [
    "### (10 pts) Implement a simple sentiment analysis system that produces the tag y* = arg maxe(x|y) for each word x in the sequence"
   ]
  },
  {
   "cell_type": "code",
   "execution_count": null,
   "metadata": {},
   "outputs": [],
   "source": []
  }
 ],
 "metadata": {
  "kernelspec": {
   "display_name": "Python 3",
   "language": "python",
   "name": "python3"
  },
  "language_info": {
   "codemirror_mode": {
    "name": "ipython",
    "version": 3
   },
   "file_extension": ".py",
   "mimetype": "text/x-python",
   "name": "python",
   "nbconvert_exporter": "python",
   "pygments_lexer": "ipython3",
   "version": "3.6.2"
  }
 },
 "nbformat": 4,
 "nbformat_minor": 2
}
