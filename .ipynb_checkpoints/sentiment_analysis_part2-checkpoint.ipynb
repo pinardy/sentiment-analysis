{
 "cells": [
  {
   "cell_type": "markdown",
   "metadata": {},
   "source": [
    "# Part 2\n",
    "\n",
    "### Recall that the HMM discussed in class is defined as follows:"
   ]
  },
  {
   "cell_type": "markdown",
   "metadata": {},
   "source": [
    "<img src=\"images/hmm_eqn.jpg\">"
   ]
  },
  {
   "cell_type": "markdown",
   "metadata": {},
   "source": [
    "#### Data Preprocessing"
   ]
  },
  {
   "cell_type": "code",
   "execution_count": 1,
   "metadata": {},
   "outputs": [],
   "source": [
    "import numpy as np\n",
    "import pandas as pd\n",
    "\n",
    "# Containers for the states and observations\n",
    "tweets = []          # A list of all the tweets (Each tweet is a list)\n",
    "word_count, tweet_count = 0, 0\n",
    "\n",
    "# Import training data\n",
    "with open('./SG/train', encoding='utf8') as f:\n",
    "    training_lines = f.readlines()\n",
    "    \n",
    "    # For each line in the file\n",
    "    for line in training_lines: \n",
    "        \n",
    "        # If line is empty (i.e. we enter a new tweet)\n",
    "        if line in['\\n', '\\r\\n']: # Initialize a new tweet, reset word count\n",
    "            if word_count != 0: #If the previous tweet was not empty, increase tweet count\n",
    "                tweet_count += 1\n",
    "            word_count = 0\n",
    "        \n",
    "        else:\n",
    "            # Remove the spaces in each line\n",
    "            stripped = line.strip().split(\" \")\n",
    "            if len(stripped) == 2:\n",
    "                if word_count == 0:\n",
    "                    tweets.append([tweet_count, word_count,'None','Start'])\n",
    "                    word_count += 1\n",
    "                tweets.append([tweet_count, word_count] + stripped)\n",
    "                word_count += 1"
   ]
  },
  {
   "cell_type": "markdown",
   "metadata": {},
   "source": [
    "#### Obtain count of labels"
   ]
  },
  {
   "cell_type": "code",
   "execution_count": 2,
   "metadata": {},
   "outputs": [
    {
     "name": "stdout",
     "output_type": "stream",
     "text": [
      "[['B-negative' 1299]\n",
      " ['B-neutral' 5722]\n",
      " ['B-positive' 2613]\n",
      " ['I-negative' 443]\n",
      " ['I-neutral' 5272]\n",
      " ['I-positive' 1653]\n",
      " ['O' 91753]\n",
      " ['Start' 7094]]\n"
     ]
    }
   ],
   "source": [
    "# Get Count(i) / Count(j)\n",
    "df = pd.DataFrame(tweets,columns=['Tweet', 'Word', 'Observation', 'State'])\n",
    "df = df.set_index(['Tweet', 'Word'])\n",
    "states_counter=df.groupby('State').count().reset_index()\n",
    "count_i_array=states_counter.as_matrix()\n",
    "print(count_i_array)\n"
   ]
  },
  {
   "cell_type": "markdown",
   "metadata": {},
   "source": [
    "### (5 pts) Write a function that estimates the emission parameters from the training set using MLE (maximum likelihood estimation):"
   ]
  },
  {
   "cell_type": "markdown",
   "metadata": {},
   "source": [
    "<img src=\"images/MLE.jpg\">"
   ]
  },
  {
   "cell_type": "code",
   "execution_count": 3,
   "metadata": {},
   "outputs": [
    {
     "name": "stdout",
     "output_type": "stream",
     "text": [
      "[['B-negative' '#1MDB' 1]\n",
      " ['B-negative' '#AHS6' 1]\n",
      " ['B-negative' '#AustonMatthews' 2]\n",
      " ..., \n",
      " ['O' '️' 226]\n",
      " ['O' '＠' 1]\n",
      " ['Start' 'None' 7094]]\n"
     ]
    }
   ],
   "source": [
    "df[\"Count\"] = 1\n",
    "state_obs_counter = df.groupby(['State','Observation'],).count().reset_index()\n",
    "count_y_o = state_obs_counter.as_matrix()\n",
    "\n",
    "# Print State, Observation, Count\n",
    "print(count_y_o)"
   ]
  },
  {
   "cell_type": "code",
   "execution_count": 4,
   "metadata": {},
   "outputs": [],
   "source": [
    "e = []\n",
    "count_i_1d = count_i_array.flatten()\n",
    "count_i_1d_list = count_i_1d.tolist()\n",
    "\n",
    "for i in range(0, len(count_y_o)):\n",
    "    y = count_y_o[i][0]\n",
    "    index_y = count_i_1d_list.index(y)\n",
    "    count_y = count_i_1d_list[index_y + 1]\n",
    "    count_y_x = count_y_o[i][2]\n",
    "    e_x_y = count_y_x / count_y\n",
    "    e.append(e_x_y)\n",
    "    \n",
    "state_obs_counter[\"e(x|y)\"] = e"
   ]
  },
  {
   "cell_type": "code",
   "execution_count": 5,
   "metadata": {},
   "outputs": [
    {
     "name": "stdout",
     "output_type": "stream",
     "text": [
      "            State                      Observation  Count    e(x|y)\n",
      "0      B-negative                            #1MDB      1  0.000770\n",
      "1      B-negative                            #AHS6      1  0.000770\n",
      "2      B-negative                  #AustonMatthews      2  0.001540\n",
      "3      B-negative                          #Beatty      1  0.000770\n",
      "4      B-negative                      #Blackhawks      1  0.000770\n",
      "5      B-negative                             #C51      1  0.000770\n",
      "6      B-negative                             #CNN      1  0.000770\n",
      "7      B-negative                            #CSIS      1  0.000770\n",
      "8      B-negative                           #China      1  0.000770\n",
      "9      B-negative                         #Clinton      1  0.000770\n",
      "10     B-negative                  #CrookedHillary      1  0.000770\n",
      "11     B-negative                       #DailyMail      1  0.000770\n",
      "12     B-negative                    #DavidCameron      1  0.000770\n",
      "13     B-negative                            #Days      1  0.000770\n",
      "14     B-negative                          #Fednor      1  0.000770\n",
      "15     B-negative                          #GBGovt      1  0.000770\n",
      "16     B-negative                             #GOP      1  0.000770\n",
      "17     B-negative                             #HRC      1  0.000770\n",
      "18     B-negative                         #Hillary      2  0.001540\n",
      "19     B-negative                  #HillaryClinton      3  0.002309\n",
      "20     B-negative                            #I390      1  0.000770\n",
      "21     B-negative                     #I87Northway      1  0.000770\n",
      "22     B-negative  #IfStempniakHadSignedInWinnipeg      1  0.000770\n",
      "23     B-negative                             #JEB      1  0.000770\n",
      "24     B-negative                      #JamesComey      1  0.000770\n",
      "25     B-negative                         #KenBone      2  0.001540\n",
      "26     B-negative                           #Leafs      1  0.000770\n",
      "27     B-negative                     #Londonderry      1  0.000770\n",
      "28     B-negative                            #MUFC      1  0.000770\n",
      "29     B-negative                          #Mafia3      1  0.000770\n",
      "...           ...                              ...    ...       ...\n",
      "29164           O                                ⛰      3  0.000033\n",
      "29165           O                                ⛱      3  0.000033\n",
      "29166           O                                ⛵      3  0.000033\n",
      "29167           O                                ⛹      4  0.000044\n",
      "29168           O                                ✂      1  0.000011\n",
      "29169           O                                ✅      2  0.000022\n",
      "29170           O                                ✈      8  0.000087\n",
      "29171           O                                ✊      9  0.000098\n",
      "29172           O                                ✋      2  0.000022\n",
      "29173           O                                ✌     15  0.000163\n",
      "29174           O                                ✔      4  0.000044\n",
      "29175           O                                ✖      2  0.000022\n",
      "29176           O                                ✨     33  0.000360\n",
      "29177           O                                ❄      5  0.000054\n",
      "29178           O                                ❗      1  0.000011\n",
      "29179           O                                ❣      5  0.000054\n",
      "29180           O                                ❤     93  0.001014\n",
      "29181           O                                ➖     12  0.000131\n",
      "29182           O                                ➡      2  0.000022\n",
      "29183           O                                ・      3  0.000033\n",
      "29184           O                         上上Always      1  0.000011\n",
      "29185           O                               口福      1  0.000011\n",
      "29186           O                               妹妹      1  0.000011\n",
      "29187           O                               微笑      1  0.000011\n",
      "29188           O                              珍珠坊      1  0.000011\n",
      "29189           O                               贡茶      1  0.000011\n",
      "29190           O                               비빙      1  0.000011\n",
      "29191           O                                ️    226  0.002463\n",
      "29192           O                                ＠      1  0.000011\n",
      "29193       Start                             None   7094  1.000000\n",
      "\n",
      "[29194 rows x 4 columns]\n"
     ]
    }
   ],
   "source": [
    "print(state_obs_counter)"
   ]
  },
  {
   "cell_type": "markdown",
   "metadata": {},
   "source": [
    "### (10 pts) During the testing phase, if the word does not appear in the “modified training set”, we replace that word with #UNK# as well. Set k to 3, implement this fix into your function for computing the emission parameters."
   ]
  },
  {
   "cell_type": "code",
   "execution_count": 6,
   "metadata": {},
   "outputs": [
    {
     "name": "stdout",
     "output_type": "stream",
     "text": [
      "            State      Observation  Count    e(x|y)\n",
      "0      B-negative            #UNK#      1  0.000770\n",
      "1      B-negative            #UNK#      1  0.000770\n",
      "2      B-negative            #UNK#      2  0.001540\n",
      "3      B-negative            #UNK#      1  0.000770\n",
      "4      B-negative            #UNK#      1  0.000770\n",
      "5      B-negative            #UNK#      1  0.000770\n",
      "6      B-negative            #UNK#      1  0.000770\n",
      "7      B-negative            #UNK#      1  0.000770\n",
      "8      B-negative            #UNK#      1  0.000770\n",
      "9      B-negative            #UNK#      1  0.000770\n",
      "10     B-negative            #UNK#      1  0.000770\n",
      "11     B-negative            #UNK#      1  0.000770\n",
      "12     B-negative            #UNK#      1  0.000770\n",
      "13     B-negative            #UNK#      1  0.000770\n",
      "14     B-negative            #UNK#      1  0.000770\n",
      "15     B-negative            #UNK#      1  0.000770\n",
      "16     B-negative            #UNK#      1  0.000770\n",
      "17     B-negative            #UNK#      1  0.000770\n",
      "18     B-negative            #UNK#      2  0.001540\n",
      "19     B-negative  #HillaryClinton      3  0.002309\n",
      "20     B-negative            #UNK#      1  0.000770\n",
      "21     B-negative            #UNK#      1  0.000770\n",
      "22     B-negative            #UNK#      1  0.000770\n",
      "23     B-negative            #UNK#      1  0.000770\n",
      "24     B-negative            #UNK#      1  0.000770\n",
      "25     B-negative            #UNK#      2  0.001540\n",
      "26     B-negative            #UNK#      1  0.000770\n",
      "27     B-negative            #UNK#      1  0.000770\n",
      "28     B-negative            #UNK#      1  0.000770\n",
      "29     B-negative            #UNK#      1  0.000770\n",
      "...           ...              ...    ...       ...\n",
      "29164           O                ⛰      3  0.000033\n",
      "29165           O                ⛱      3  0.000033\n",
      "29166           O                ⛵      3  0.000033\n",
      "29167           O                ⛹      4  0.000044\n",
      "29168           O            #UNK#      1  0.000011\n",
      "29169           O            #UNK#      2  0.000022\n",
      "29170           O                ✈      8  0.000087\n",
      "29171           O                ✊      9  0.000098\n",
      "29172           O            #UNK#      2  0.000022\n",
      "29173           O                ✌     15  0.000163\n",
      "29174           O                ✔      4  0.000044\n",
      "29175           O            #UNK#      2  0.000022\n",
      "29176           O                ✨     33  0.000360\n",
      "29177           O                ❄      5  0.000054\n",
      "29178           O            #UNK#      1  0.000011\n",
      "29179           O                ❣      5  0.000054\n",
      "29180           O                ❤     93  0.001014\n",
      "29181           O                ➖     12  0.000131\n",
      "29182           O            #UNK#      2  0.000022\n",
      "29183           O                ・      3  0.000033\n",
      "29184           O            #UNK#      1  0.000011\n",
      "29185           O            #UNK#      1  0.000011\n",
      "29186           O            #UNK#      1  0.000011\n",
      "29187           O            #UNK#      1  0.000011\n",
      "29188           O            #UNK#      1  0.000011\n",
      "29189           O            #UNK#      1  0.000011\n",
      "29190           O            #UNK#      1  0.000011\n",
      "29191           O                ️    226  0.002463\n",
      "29192           O            #UNK#      1  0.000011\n",
      "29193       Start             None   7094  1.000000\n",
      "\n",
      "[29194 rows x 4 columns]\n"
     ]
    },
    {
     "name": "stderr",
     "output_type": "stream",
     "text": [
      "C:\\Users\\Pinar\\Anaconda3\\lib\\site-packages\\pandas\\core\\indexing.py:179: SettingWithCopyWarning: \n",
      "A value is trying to be set on a copy of a slice from a DataFrame\n",
      "\n",
      "See the caveats in the documentation: http://pandas.pydata.org/pandas-docs/stable/indexing.html#indexing-view-versus-copy\n",
      "  self._setitem_with_indexer(indexer, value)\n"
     ]
    }
   ],
   "source": [
    "k = 3\n",
    "\n",
    "# Replace observation words with #UNK# for observations with count <= 3\n",
    "state_obs_counter['Observation'].loc[state_obs_counter['Count'] < k] = '#UNK#'\n",
    "\n",
    "print(state_obs_counter)"
   ]
  },
  {
   "cell_type": "code",
   "execution_count": null,
   "metadata": {},
   "outputs": [],
   "source": []
  },
  {
   "cell_type": "markdown",
   "metadata": {},
   "source": [
    "### (10 pts) Implement a simple sentiment analysis system that produces the tag y* = arg max e(x|y) for each word x in the sequence"
   ]
  },
  {
   "cell_type": "code",
   "execution_count": null,
   "metadata": {},
   "outputs": [],
   "source": []
  }
 ],
 "metadata": {
  "kernelspec": {
   "display_name": "Python 3",
   "language": "python",
   "name": "python3"
  },
  "language_info": {
   "codemirror_mode": {
    "name": "ipython",
    "version": 3
   },
   "file_extension": ".py",
   "mimetype": "text/x-python",
   "name": "python",
   "nbconvert_exporter": "python",
   "pygments_lexer": "ipython3",
   "version": "3.6.2"
  }
 },
 "nbformat": 4,
 "nbformat_minor": 2
}
